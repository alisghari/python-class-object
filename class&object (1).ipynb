{
  "nbformat": 4,
  "nbformat_minor": 0,
  "metadata": {
    "colab": {
      "name": "class&object.ipynb",
      "provenance": []
    },
    "kernelspec": {
      "name": "python3",
      "display_name": "Python 3"
    },
    "language_info": {
      "name": "python"
    }
  },
  "cells": [
    {
      "cell_type": "code",
      "metadata": {
        "colab": {
          "base_uri": "https://localhost:8080/"
        },
        "id": "prY0BWeiAc6v",
        "outputId": "319a40c2-22bb-4af6-d8ae-33cc17c47a9e"
      },
      "source": [
        "class Point3D(object):\n",
        "    def __init__(self, x, y, z):\n",
        "        self.x = x\n",
        "        self.y = y\n",
        "        self.z = z\n",
        "    def __repr__(self):\n",
        "        return \"(%d, %d, %d)\" % (self.x, self.y, self.z)\n",
        "        \n",
        "my_point = Point3D(1,2,3)\n",
        "\n",
        "print (my_point)"
      ],
      "execution_count": 1,
      "outputs": [
        {
          "output_type": "stream",
          "name": "stdout",
          "text": [
            "(1, 2, 3)\n"
          ]
        }
      ]
    },
    {
      "cell_type": "code",
      "metadata": {
        "colab": {
          "base_uri": "https://localhost:8080/"
        },
        "id": "TbDyjqKFlKUn",
        "outputId": "4169e784-a7ea-4654-b970-70a00279e409"
      },
      "source": [
        "class Rectangle ():\n",
        "  def __init__(self,l,w):\n",
        "    self.length = l\n",
        "    self.width  = w\n",
        "  def rectangle_area(self):\n",
        "    return self.length*self.width\n",
        "  def rectangle_peri(self):\n",
        "    return 2*(self.length+self.width)\n",
        "\n",
        "newRectangle = Rectangle(4, 3)\n",
        "\n",
        "print(\"area\", newRectangle.rectangle_area())\n",
        "print(\"perimeter\", newRectangle.rectangle_peri())    \n"
      ],
      "execution_count": 5,
      "outputs": [
        {
          "output_type": "stream",
          "name": "stdout",
          "text": [
            "area 12\n",
            "perimeter 14\n"
          ]
        }
      ]
    },
    {
      "cell_type": "code",
      "metadata": {
        "colab": {
          "base_uri": "https://localhost:8080/"
        },
        "id": "nCrsnrkboNOj",
        "outputId": "487424c5-15fc-41d1-9d05-878ffea4b0c6"
      },
      "source": [
        "import math\n",
        "newCircle=0\n",
        "class Circle():\n",
        "  def __init__(self,r,xo,yo):\n",
        "    self.radius=r\n",
        "    self.xo = xo\n",
        "    self.yo = yo\n",
        "\n",
        "  def area(self):\n",
        "    return self.radius**2*(math.pi)\n",
        "  def peri (self):\n",
        "    return 2*self.radius*(math.pi)\n",
        "  def Isinside(self,x,y):\n",
        "    a=math.sqrt(((x-self.xo)**2)+((y-self.yo)**2))\n",
        "    if a<=self.radius:\n",
        "      print(\"is inside the circle\")\n",
        "    else:\n",
        "      print(\"is not inside\")\n",
        "    \n",
        "\n",
        "newCircle = Circle(8,3,5)\n",
        "\n",
        "newCircle.Isinside(5,7)\n",
        "print(\"area = \", newCircle.area())\n",
        "print(\"perimeter = \", newCircle.peri()) "
      ],
      "execution_count": 59,
      "outputs": [
        {
          "output_type": "stream",
          "name": "stdout",
          "text": [
            "is inside the circle\n",
            "area =  201.06192982974676\n",
            "perimeter =  50.26548245743669\n"
          ]
        }
      ]
    },
    {
      "cell_type": "code",
      "metadata": {
        "colab": {
          "base_uri": "https://localhost:8080/"
        },
        "id": "NcjN-sVkuzAP",
        "outputId": "062b22aa-5798-4bcf-f475-9e9e8bde030d"
      },
      "source": [
        "class Bank_Account:\n",
        "    def __init__(self):\n",
        "        self.balance=0\n",
        "        print(\"Hello\")\n",
        " \n",
        "    def deposit(self):\n",
        "        a=float(input(\"Enter amount to be Deposited: \"))\n",
        "        self.balance += a\n",
        "        print(\" Solde:\",a)\n",
        " \n",
        "    def withdraw(self):\n",
        "        a = float(input(\"Enter amount to be Withdrawn: \"))\n",
        "        if self.balance>=a:\n",
        "            self.balance-=a\n",
        "            print(\" Solde:\", a)\n",
        "        else:\n",
        "            print(\" Insufficient balance  \")\n",
        " \n",
        "    def display(self):\n",
        "        print(\"Available Balance=\",self.balance)\n",
        "s = Bank_Account()\n",
        "s.deposit()\n",
        "s.withdraw()\n",
        "s.display()"
      ],
      "execution_count": 12,
      "outputs": [
        {
          "output_type": "stream",
          "name": "stdout",
          "text": [
            "Hello\n",
            "Enter amount to be Deposited: 10000\n",
            " Solde: 10000.0\n",
            "Enter amount to be Withdrawn: 4930\n",
            " Solde: 4930.0\n",
            "Available Balance= 5070.0\n"
          ]
        }
      ]
    }
  ]
}